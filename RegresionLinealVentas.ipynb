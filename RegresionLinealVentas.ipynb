{
 "cells": [
  {
   "cell_type": "code",
   "execution_count": 1,
   "id": "adac3179",
   "metadata": {},
   "outputs": [],
   "source": [
    "\n",
    "import numpy as np\n",
    "import pandas as pd\n",
    "import seaborn as sb\n",
    "import matplotlib.pyplot as plt\n",
    "%matplotlib inline\n",
    "from mpl_toolkits.mplot3d import Axes3D\n",
    "from matplotlib import cm\n",
    "plt.rcParams['figure.figsize'] = (16, 9)\n",
    "plt.style.use('ggplot')\n",
    "from sklearn import linear_model\n",
    "from sklearn.metrics import mean_squared_error, r2_score"
   ]
  },
  {
   "cell_type": "code",
   "execution_count": 48,
   "id": "72288f42",
   "metadata": {},
   "outputs": [
    {
     "name": "stdout",
     "output_type": "stream",
     "text": [
      "CDMX CENTER    5\n",
      "CDMX EAST      5\n",
      "EDOMEX EAST    4\n",
      "EDOMEX WEST    4\n",
      "VER            3\n",
      "CHH            3\n",
      "SIN            3\n",
      "PUE            3\n",
      "ACA            3\n",
      "GDL            3\n",
      "CUN            3\n",
      "Name: zone_name, dtype: int64\n",
      "3.067439    2936\n",
      "5.778498    2623\n",
      "3.623596    1602\n",
      "4.414440    1385\n",
      "3.362069     986\n",
      "2.714744     624\n",
      "3.996790     623\n",
      "3.712305     577\n",
      "3.504732     317\n",
      "6.093878     245\n",
      "3.344262     244\n",
      "Name: zone_name, dtype: int64\n"
     ]
    }
   ],
   "source": [
    "from datetime import date, datetime, timedelta\n",
    "\n",
    "data = pd.read_csv(r\"C:\\Users\\djardon\\Downloads\\DataEngineer_ShasaBusinessCase\\Challenge1_DataSets\\store_sales.csv\")   \n",
    "data2 = pd.read_csv(r\"C:\\Users\\djardon\\Downloads\\DataEngineer_ShasaBusinessCase\\Challenge1_DataSets\\store_info.csv\")   \n",
    "data=data.rename(columns={'id':'store_id'})\n",
    "data['mes']=pd.to_datetime(data['sales_datetime']).dt.month\n",
    "data=data[['store_id','mes','sales_count']]\n",
    "data2=data2[['store_id','store_type','zone_name']]\n",
    "print(data2['zone_name'].value_counts())\n",
    "datos= pd.merge(data,data2, on=['store_id'],how='left')\n",
    "datos=datos[['store_type','zone_name','mes','sales_count'\t]]\n",
    "datos['store_type']=datos['store_type'].replace('COLD',0).replace('HOT & COLD',1).replace('HOT',2)\n",
    "Mean_encoded_subject = datos.groupby(['zone_name'])['sales_count'].mean().to_dict()\n",
    "datos['zone_name'] =  datos['zone_name'].map(Mean_encoded_subject)\n",
    "print(datos['zone_name'].value_counts())"
   ]
  },
  {
   "cell_type": "code",
   "execution_count": 56,
   "id": "16d49899",
   "metadata": {},
   "outputs": [
    {
     "name": "stdout",
     "output_type": "stream",
     "text": [
      "Error cuadrático medio: 15.99\n",
      "Estadístico R_2: 0.07\n"
     ]
    }
   ],
   "source": [
    "modelo = linear_model.LinearRegression()\n",
    "x=datos[['store_type','zone_name','mes']]\n",
    "y=datos['sales_count']\n",
    "modelo.fit(x, y)\n",
    "y_pred = modelo.predict(x)\n",
    "\n",
    "print('Error cuadrático medio: %.2f' % mean_squared_error(y, y_pred))\n",
    "print('Estadístico R_2: %.2f' % r2_score(y, y_pred))\n"
   ]
  },
  {
   "cell_type": "code",
   "execution_count": 53,
   "id": "dc67a7e5",
   "metadata": {},
   "outputs": [
    {
     "name": "stdout",
     "output_type": "stream",
     "text": [
      "Growth % en ventas para Edomex EAST en mayo [-0.06114039]\n",
      "Growth % en ventas para Edomex EAST en junio [-0.04297969]\n",
      "Growth % en ventas para Edomex EAST en julio [-0.02481899]\n",
      "Growth % en ventas para Edomex WEST en mayo [-0.06862671]\n",
      "Growth % en ventas para Edomex WEST en junio [-0.05046601]\n",
      "Growth % en ventas para Edomex WEST en julio [-0.03230531]\n"
     ]
    },
    {
     "name": "stderr",
     "output_type": "stream",
     "text": [
      "C:\\Users\\djardon\\Anaconda3\\lib\\site-packages\\sklearn\\base.py:450: UserWarning: X does not have valid feature names, but LinearRegression was fitted with feature names\n",
      "  warnings.warn(\n",
      "C:\\Users\\djardon\\Anaconda3\\lib\\site-packages\\sklearn\\base.py:450: UserWarning: X does not have valid feature names, but LinearRegression was fitted with feature names\n",
      "  warnings.warn(\n",
      "C:\\Users\\djardon\\Anaconda3\\lib\\site-packages\\sklearn\\base.py:450: UserWarning: X does not have valid feature names, but LinearRegression was fitted with feature names\n",
      "  warnings.warn(\n",
      "C:\\Users\\djardon\\Anaconda3\\lib\\site-packages\\sklearn\\base.py:450: UserWarning: X does not have valid feature names, but LinearRegression was fitted with feature names\n",
      "  warnings.warn(\n",
      "C:\\Users\\djardon\\Anaconda3\\lib\\site-packages\\sklearn\\base.py:450: UserWarning: X does not have valid feature names, but LinearRegression was fitted with feature names\n",
      "  warnings.warn(\n",
      "C:\\Users\\djardon\\Anaconda3\\lib\\site-packages\\sklearn\\base.py:450: UserWarning: X does not have valid feature names, but LinearRegression was fitted with feature names\n",
      "  warnings.warn(\n"
     ]
    }
   ],
   "source": [
    "#ventas para tiendas frias\n",
    "y_pred1mayo = modelo.predict([[3.623596,0,5]])\n",
    "y_pred2mayo = modelo.predict([[4.414440,0,5]])\n",
    "y_pred1junio = modelo.predict([[3.623596,0,6]])\n",
    "y_pred2junio = modelo.predict([[4.414440,0,6]])\n",
    "y_pred1julio = modelo.predict([[3.623596,0,7]])\n",
    "y_pred2julio = modelo.predict([[4.414440,0,7]])\n",
    "print('Growth % en ventas para Edomex EAST en mayo',y_pred1mayo)\n",
    "print('Growth % en ventas para Edomex EAST en junio',y_pred1junio)\n",
    "print('Growth % en ventas para Edomex EAST en julio',y_pred1julio)\n",
    "print('Growth % en ventas para Edomex WEST en mayo',y_pred2mayo)\n",
    "print('Growth % en ventas para Edomex WEST en junio',y_pred2junio)\n",
    "print('Growth % en ventas para Edomex WEST en julio',y_pred2julio)"
   ]
  },
  {
   "cell_type": "code",
   "execution_count": 54,
   "id": "5bcfd010",
   "metadata": {},
   "outputs": [
    {
     "name": "stdout",
     "output_type": "stream",
     "text": [
      "Growth % en ventas para Cancun en mayo [1.95265281]\n",
      "Growth % en ventas para Cancun EAST en junio [1.97081351]\n",
      "Growth % en ventas para Cancun EAST en julio [1.98897421]\n",
      "Growth % en ventas para Veracruz WEST en mayo [1.95248424]\n",
      "Growth % en ventas para Veracruz WEST en junio [1.97064494]\n",
      "Growth % en ventas para Veracruz WEST en julio [1.98880565]\n"
     ]
    },
    {
     "name": "stderr",
     "output_type": "stream",
     "text": [
      "C:\\Users\\djardon\\Anaconda3\\lib\\site-packages\\sklearn\\base.py:450: UserWarning: X does not have valid feature names, but LinearRegression was fitted with feature names\n",
      "  warnings.warn(\n",
      "C:\\Users\\djardon\\Anaconda3\\lib\\site-packages\\sklearn\\base.py:450: UserWarning: X does not have valid feature names, but LinearRegression was fitted with feature names\n",
      "  warnings.warn(\n",
      "C:\\Users\\djardon\\Anaconda3\\lib\\site-packages\\sklearn\\base.py:450: UserWarning: X does not have valid feature names, but LinearRegression was fitted with feature names\n",
      "  warnings.warn(\n",
      "C:\\Users\\djardon\\Anaconda3\\lib\\site-packages\\sklearn\\base.py:450: UserWarning: X does not have valid feature names, but LinearRegression was fitted with feature names\n",
      "  warnings.warn(\n",
      "C:\\Users\\djardon\\Anaconda3\\lib\\site-packages\\sklearn\\base.py:450: UserWarning: X does not have valid feature names, but LinearRegression was fitted with feature names\n",
      "  warnings.warn(\n",
      "C:\\Users\\djardon\\Anaconda3\\lib\\site-packages\\sklearn\\base.py:450: UserWarning: X does not have valid feature names, but LinearRegression was fitted with feature names\n",
      "  warnings.warn(\n"
     ]
    }
   ],
   "source": [
    "#para tiendas hot\n",
    "y_pred1mayo = modelo.predict([[3.344262,2,5]])\n",
    "y_pred2mayo = modelo.predict([[3.362069,2,5]])\n",
    "y_pred1junio = modelo.predict([[3.344262,2,6]])\n",
    "y_pred2junio = modelo.predict([[3.362069,2,6]])\n",
    "y_pred1julio = modelo.predict([[3.344262,2,7]])\n",
    "y_pred2julio = modelo.predict([[3.362069,2,7]])\n",
    "print('Growth % en ventas para Cancun en mayo',y_pred1mayo)\n",
    "print('Growth % en ventas para Cancun EAST en junio',y_pred1junio)\n",
    "print('Growth % en ventas para Cancun EAST en julio',y_pred1julio)\n",
    "print('Growth % en ventas para Veracruz WEST en mayo',y_pred2mayo)\n",
    "print('Growth % en ventas para Veracruz WEST en junio',y_pred2junio)\n",
    "print('Growth % en ventas para Veracruz WEST en julio',y_pred2julio)"
   ]
  },
  {
   "cell_type": "code",
   "execution_count": 55,
   "id": "a06c5380",
   "metadata": {},
   "outputs": [
    {
     "name": "stdout",
     "output_type": "stream",
     "text": [
      "Growth % en ventas para Edomex EAST en mayo [0.9530375]\n",
      "Growth % en ventas para Edomex EAST en junio [0.9711982]\n",
      "Growth % en ventas para Edomex EAST en julio [0.98935891]\n",
      "Growth % en ventas para GDL en mayo [0.92104979]\n",
      "Growth % en ventas para GDL en junio [0.93921049]\n",
      "Growth % en ventas para GDL en julio [0.95737119]\n"
     ]
    },
    {
     "name": "stderr",
     "output_type": "stream",
     "text": [
      "C:\\Users\\djardon\\Anaconda3\\lib\\site-packages\\sklearn\\base.py:450: UserWarning: X does not have valid feature names, but LinearRegression was fitted with feature names\n",
      "  warnings.warn(\n",
      "C:\\Users\\djardon\\Anaconda3\\lib\\site-packages\\sklearn\\base.py:450: UserWarning: X does not have valid feature names, but LinearRegression was fitted with feature names\n",
      "  warnings.warn(\n",
      "C:\\Users\\djardon\\Anaconda3\\lib\\site-packages\\sklearn\\base.py:450: UserWarning: X does not have valid feature names, but LinearRegression was fitted with feature names\n",
      "  warnings.warn(\n",
      "C:\\Users\\djardon\\Anaconda3\\lib\\site-packages\\sklearn\\base.py:450: UserWarning: X does not have valid feature names, but LinearRegression was fitted with feature names\n",
      "  warnings.warn(\n",
      "C:\\Users\\djardon\\Anaconda3\\lib\\site-packages\\sklearn\\base.py:450: UserWarning: X does not have valid feature names, but LinearRegression was fitted with feature names\n",
      "  warnings.warn(\n",
      "C:\\Users\\djardon\\Anaconda3\\lib\\site-packages\\sklearn\\base.py:450: UserWarning: X does not have valid feature names, but LinearRegression was fitted with feature names\n",
      "  warnings.warn(\n"
     ]
    }
   ],
   "source": [
    "#ventas para tiendas hot and cold\n",
    "y_pred1mayo = modelo.predict([[2.714744,1,5]])\n",
    "y_pred2mayo = modelo.predict([[6.093878,1,5]])\n",
    "y_pred1junio = modelo.predict([[2.714744,1,6]])\n",
    "y_pred2junio = modelo.predict([[6.093878,1,6]])\n",
    "y_pred1julio = modelo.predict([[2.714744,1,7]])\n",
    "y_pred2julio = modelo.predict([[6.093878,1,7]])\n",
    "print('Growth % en ventas para Chihuahua en mayo',y_pred1mayo)\n",
    "print('Growth % en ventas para Chihuahua en junio',y_pred1junio)\n",
    "print('Growth % en ventas para Chihuahua en julio',y_pred1julio)\n",
    "print('Growth % en ventas para GDL en mayo',y_pred2mayo)\n",
    "print('Growth % en ventas para GDL en junio',y_pred2junio)\n",
    "print('Growth % en ventas para GDL en julio',y_pred2julio)"
   ]
  },
  {
   "cell_type": "code",
   "execution_count": null,
   "id": "2ef0118c",
   "metadata": {},
   "outputs": [],
   "source": []
  }
 ],
 "metadata": {
  "kernelspec": {
   "display_name": "Python 3 (ipykernel)",
   "language": "python",
   "name": "python3"
  },
  "language_info": {
   "codemirror_mode": {
    "name": "ipython",
    "version": 3
   },
   "file_extension": ".py",
   "mimetype": "text/x-python",
   "name": "python",
   "nbconvert_exporter": "python",
   "pygments_lexer": "ipython3",
   "version": "3.9.12"
  }
 },
 "nbformat": 4,
 "nbformat_minor": 5
}
